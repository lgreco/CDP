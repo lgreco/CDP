{
 "cells": [
  {
   "cell_type": "code",
   "execution_count": 1,
   "metadata": {},
   "outputs": [],
   "source": [
    "#\n",
    "# Dependences\n",
    "\n",
    "import pandas as pd\n",
    "import numpy as np\n",
    "import matplotlib.pyplot as plt\n",
    "%matplotlib inline"
   ]
  },
  {
   "cell_type": "code",
   "execution_count": 2,
   "metadata": {},
   "outputs": [
    {
     "data": {
      "text/html": [
       "<div>\n",
       "<style scoped>\n",
       "    .dataframe tbody tr th:only-of-type {\n",
       "        vertical-align: middle;\n",
       "    }\n",
       "\n",
       "    .dataframe tbody tr th {\n",
       "        vertical-align: top;\n",
       "    }\n",
       "\n",
       "    .dataframe thead th {\n",
       "        text-align: right;\n",
       "    }\n",
       "</style>\n",
       "<table border=\"1\" class=\"dataframe\">\n",
       "  <thead>\n",
       "    <tr style=\"text-align: right;\">\n",
       "      <th></th>\n",
       "      <th>week</th>\n",
       "      <th>state</th>\n",
       "      <th>state_name</th>\n",
       "      <th>disease</th>\n",
       "      <th>cases</th>\n",
       "      <th>incidence_per_capita</th>\n",
       "    </tr>\n",
       "  </thead>\n",
       "  <tbody>\n",
       "    <tr>\n",
       "      <th>0</th>\n",
       "      <td>192801</td>\n",
       "      <td>AL</td>\n",
       "      <td>ALABAMA</td>\n",
       "      <td>SMALLPOX</td>\n",
       "      <td>1</td>\n",
       "      <td>0.04</td>\n",
       "    </tr>\n",
       "    <tr>\n",
       "      <th>1</th>\n",
       "      <td>192801</td>\n",
       "      <td>AR</td>\n",
       "      <td>ARKANSAS</td>\n",
       "      <td>SMALLPOX</td>\n",
       "      <td>7</td>\n",
       "      <td>0.38</td>\n",
       "    </tr>\n",
       "    <tr>\n",
       "      <th>2</th>\n",
       "      <td>192801</td>\n",
       "      <td>AZ</td>\n",
       "      <td>ARIZONA</td>\n",
       "      <td>SMALLPOX</td>\n",
       "      <td>0</td>\n",
       "      <td>0.00</td>\n",
       "    </tr>\n",
       "    <tr>\n",
       "      <th>3</th>\n",
       "      <td>192801</td>\n",
       "      <td>CA</td>\n",
       "      <td>CALIFORNIA</td>\n",
       "      <td>SMALLPOX</td>\n",
       "      <td>18</td>\n",
       "      <td>0.34</td>\n",
       "    </tr>\n",
       "    <tr>\n",
       "      <th>4</th>\n",
       "      <td>192801</td>\n",
       "      <td>CO</td>\n",
       "      <td>COLORADO</td>\n",
       "      <td>SMALLPOX</td>\n",
       "      <td>31</td>\n",
       "      <td>3.06</td>\n",
       "    </tr>\n",
       "  </tbody>\n",
       "</table>\n",
       "</div>"
      ],
      "text/plain": [
       "     week state  state_name   disease  cases  incidence_per_capita\n",
       "0  192801    AL     ALABAMA  SMALLPOX      1                  0.04\n",
       "1  192801    AR    ARKANSAS  SMALLPOX      7                  0.38\n",
       "2  192801    AZ     ARIZONA  SMALLPOX      0                  0.00\n",
       "3  192801    CA  CALIFORNIA  SMALLPOX     18                  0.34\n",
       "4  192801    CO    COLORADO  SMALLPOX     31                  3.06"
      ]
     },
     "execution_count": 2,
     "metadata": {},
     "output_type": "execute_result"
    }
   ],
   "source": [
    "# Read the data and show a short sample\n",
    "measles = pd.read_csv(\"smallpox.csv\")\n",
    "measles.head()"
   ]
  },
  {
   "cell_type": "code",
   "execution_count": 3,
   "metadata": {},
   "outputs": [
    {
     "data": {
      "text/html": [
       "<div>\n",
       "<style scoped>\n",
       "    .dataframe tbody tr th:only-of-type {\n",
       "        vertical-align: middle;\n",
       "    }\n",
       "\n",
       "    .dataframe tbody tr th {\n",
       "        vertical-align: top;\n",
       "    }\n",
       "\n",
       "    .dataframe thead th {\n",
       "        text-align: right;\n",
       "    }\n",
       "</style>\n",
       "<table border=\"1\" class=\"dataframe\">\n",
       "  <thead>\n",
       "    <tr style=\"text-align: right;\">\n",
       "      <th></th>\n",
       "      <th>state</th>\n",
       "      <th>state_name</th>\n",
       "      <th>disease</th>\n",
       "      <th>cases</th>\n",
       "      <th>incidence_per_capita</th>\n",
       "      <th>year</th>\n",
       "      <th>week_num</th>\n",
       "    </tr>\n",
       "  </thead>\n",
       "  <tbody>\n",
       "    <tr>\n",
       "      <th>0</th>\n",
       "      <td>AL</td>\n",
       "      <td>ALABAMA</td>\n",
       "      <td>SMALLPOX</td>\n",
       "      <td>1</td>\n",
       "      <td>0.04</td>\n",
       "      <td>1928</td>\n",
       "      <td>1</td>\n",
       "    </tr>\n",
       "    <tr>\n",
       "      <th>1</th>\n",
       "      <td>AR</td>\n",
       "      <td>ARKANSAS</td>\n",
       "      <td>SMALLPOX</td>\n",
       "      <td>7</td>\n",
       "      <td>0.38</td>\n",
       "      <td>1928</td>\n",
       "      <td>1</td>\n",
       "    </tr>\n",
       "    <tr>\n",
       "      <th>2</th>\n",
       "      <td>AZ</td>\n",
       "      <td>ARIZONA</td>\n",
       "      <td>SMALLPOX</td>\n",
       "      <td>0</td>\n",
       "      <td>0.00</td>\n",
       "      <td>1928</td>\n",
       "      <td>1</td>\n",
       "    </tr>\n",
       "  </tbody>\n",
       "</table>\n",
       "</div>"
      ],
      "text/plain": [
       "  state state_name   disease  cases  incidence_per_capita  year  week_num\n",
       "0    AL    ALABAMA  SMALLPOX      1                  0.04  1928         1\n",
       "1    AR   ARKANSAS  SMALLPOX      7                  0.38  1928         1\n",
       "2    AZ    ARIZONA  SMALLPOX      0                  0.00  1928         1"
      ]
     },
     "execution_count": 3,
     "metadata": {},
     "output_type": "execute_result"
    }
   ],
   "source": [
    "#\n",
    "# transform week value YYYYMM to MM and YYYY\n",
    "# and show a short sample again.\n",
    "# Transformation takes place with an anonymous function\n",
    "# passed into .apply().\n",
    "#\n",
    "# First, we use the function int(str(x)[0:4]) to pull out\n",
    "# the year value from the YYYYWW entity in the dataset,\n",
    "# assigning it to new column [\"year\"] within the dataframe.\n",
    "#\n",
    "# Second, we use the function int(str(x)[4:7]) to pull out\n",
    "# the week value from YYYYWW, assigning it to new column\n",
    "# [\"week_num\"] within the dataframe.\n",
    "#\n",
    "# Finally, we drop the week column from the dataframe as it\n",
    "# is extraneous, using the method .drop()\n",
    "\n",
    "measles[\"year\"] = measles[\"week\"].apply(lambda x: int(str(x)[0:4]))\n",
    "measles[\"week_num\"] = measles[\"week\"].apply(lambda x: int(str(x)[4:7]))\n",
    "measles.drop(\"week\", axis = 1, inplace = True)\n",
    "measles.head(3)"
   ]
  },
  {
   "cell_type": "code",
   "execution_count": 4,
   "metadata": {},
   "outputs": [],
   "source": [
    "def aggregate(thisDataframe, byThisColumn):\n",
    "    \n",
    "    groupedByThisColumn = thisDataframe.groupby(by = byThisColumn)\n",
    "    # aggregate sum(cases), avg(cases), avg(incidence)\n",
    "    sumOfCases = pd.DataFrame(groupedByThisColumn[\"cases\"].sum()).reset_index()\n",
    "    avgOfCases = pd.DataFrame(groupedByThisColumn[\"cases\"].mean()).reset_index()\n",
    "    avgIncidenceYear = pd.DataFrame(groupedByThisColumn[\"incidence_per_capita\"].mean()).reset_index()\n",
    "    # rename columns \n",
    "    avgIncidenceYear = avgIncidenceYear.rename(columns = {\"incidence_per_capita\": \"weekly average incidence\"})\n",
    "    sumOfCases = sumOfCases.rename(columns = {\"cases\": \"yearly sum\"})\n",
    "    avgOfCases = avgOfCases.rename(columns = {\"cases\": \"weekly average\"})\n",
    "    # put dataframes together\n",
    "    measlesCases = pd.merge(avgOfCases, sumOfCases)\n",
    "    newDataframe = pd.merge(avgIncidenceYear, measlesCases)\n",
    "    return newDataframe"
   ]
  },
  {
   "cell_type": "code",
   "execution_count": 5,
   "metadata": {},
   "outputs": [
    {
     "data": {
      "text/html": [
       "<div>\n",
       "<style scoped>\n",
       "    .dataframe tbody tr th:only-of-type {\n",
       "        vertical-align: middle;\n",
       "    }\n",
       "\n",
       "    .dataframe tbody tr th {\n",
       "        vertical-align: top;\n",
       "    }\n",
       "\n",
       "    .dataframe thead th {\n",
       "        text-align: right;\n",
       "    }\n",
       "</style>\n",
       "<table border=\"1\" class=\"dataframe\">\n",
       "  <thead>\n",
       "    <tr style=\"text-align: right;\">\n",
       "      <th></th>\n",
       "      <th>year</th>\n",
       "      <th>state_name</th>\n",
       "      <th>weekly average incidence</th>\n",
       "      <th>weekly average</th>\n",
       "      <th>yearly sum</th>\n",
       "    </tr>\n",
       "  </thead>\n",
       "  <tbody>\n",
       "    <tr>\n",
       "      <th>0</th>\n",
       "      <td>1928</td>\n",
       "      <td>ALABAMA</td>\n",
       "      <td>0.254118</td>\n",
       "      <td>6.686275</td>\n",
       "      <td>341</td>\n",
       "    </tr>\n",
       "    <tr>\n",
       "      <th>1</th>\n",
       "      <td>1928</td>\n",
       "      <td>ARIZONA</td>\n",
       "      <td>1.905098</td>\n",
       "      <td>8.039216</td>\n",
       "      <td>410</td>\n",
       "    </tr>\n",
       "    <tr>\n",
       "      <th>2</th>\n",
       "      <td>1928</td>\n",
       "      <td>ARKANSAS</td>\n",
       "      <td>0.262745</td>\n",
       "      <td>4.862745</td>\n",
       "      <td>248</td>\n",
       "    </tr>\n",
       "  </tbody>\n",
       "</table>\n",
       "</div>"
      ],
      "text/plain": [
       "   year state_name  weekly average incidence  weekly average  yearly sum\n",
       "0  1928    ALABAMA                  0.254118        6.686275         341\n",
       "1  1928    ARIZONA                  1.905098        8.039216         410\n",
       "2  1928   ARKANSAS                  0.262745        4.862745         248"
      ]
     },
     "execution_count": 5,
     "metadata": {},
     "output_type": "execute_result"
    }
   ],
   "source": [
    "measlesByYearByState = aggregate(measles, byThisColumn = [\"year\", \"state_name\"])\n",
    "measlesByYearByState.head(3)"
   ]
  },
  {
   "cell_type": "code",
   "execution_count": 6,
   "metadata": {},
   "outputs": [
    {
     "data": {
      "text/html": [
       "<div>\n",
       "<style scoped>\n",
       "    .dataframe tbody tr th:only-of-type {\n",
       "        vertical-align: middle;\n",
       "    }\n",
       "\n",
       "    .dataframe tbody tr th {\n",
       "        vertical-align: top;\n",
       "    }\n",
       "\n",
       "    .dataframe thead th {\n",
       "        text-align: right;\n",
       "    }\n",
       "</style>\n",
       "<table border=\"1\" class=\"dataframe\">\n",
       "  <thead>\n",
       "    <tr style=\"text-align: right;\">\n",
       "      <th></th>\n",
       "      <th>year</th>\n",
       "      <th>weekly average incidence</th>\n",
       "      <th>weekly average</th>\n",
       "      <th>yearly sum</th>\n",
       "    </tr>\n",
       "  </thead>\n",
       "  <tbody>\n",
       "    <tr>\n",
       "      <th>0</th>\n",
       "      <td>1928</td>\n",
       "      <td>0.856037</td>\n",
       "      <td>15.440305</td>\n",
       "      <td>36470</td>\n",
       "    </tr>\n",
       "    <tr>\n",
       "      <th>1</th>\n",
       "      <td>1929</td>\n",
       "      <td>0.833532</td>\n",
       "      <td>15.746103</td>\n",
       "      <td>38389</td>\n",
       "    </tr>\n",
       "    <tr>\n",
       "      <th>2</th>\n",
       "      <td>1930</td>\n",
       "      <td>0.890658</td>\n",
       "      <td>18.695012</td>\n",
       "      <td>45728</td>\n",
       "    </tr>\n",
       "  </tbody>\n",
       "</table>\n",
       "</div>"
      ],
      "text/plain": [
       "   year  weekly average incidence  weekly average  yearly sum\n",
       "0  1928                  0.856037       15.440305       36470\n",
       "1  1929                  0.833532       15.746103       38389\n",
       "2  1930                  0.890658       18.695012       45728"
      ]
     },
     "execution_count": 6,
     "metadata": {},
     "output_type": "execute_result"
    }
   ],
   "source": [
    "measlesByYear = aggregate(measles, byThisColumn=[\"year\"])\n",
    "measlesByYear.head(3)"
   ]
  },
  {
   "cell_type": "code",
   "execution_count": 7,
   "metadata": {},
   "outputs": [
    {
     "data": {
      "image/png": "[encoded data removed]",
      "text/plain": [
       "<Figure size 432x288 with 1 Axes>"
      ]
     },
     "metadata": {
      "needs_background": "light"
     },
     "output_type": "display_data"
    }
   ],
   "source": [
    "measlesByYear.plot(kind='scatter',x='year',y='weekly average')\n",
    "plt.show()"
   ]
  },
  {
   "cell_type": "code",
   "execution_count": null,
   "metadata": {},
   "outputs": [],
   "source": []
  },
  {
   "cell_type": "code",
   "execution_count": null,
   "metadata": {},
   "outputs": [],
   "source": []
  }
 ],
 "metadata": {
  "kernelspec": {
   "display_name": "Python 3",
   "language": "python",
   "name": "python3"
  },
  "language_info": {
   "codemirror_mode": {
    "name": "ipython",
    "version": 3
   },
   "file_extension": ".py",
   "mimetype": "text/x-python",
   "name": "python",
   "nbconvert_exporter": "python",
   "pygments_lexer": "ipython3",
   "version": "3.7.3"
  }
 },
 "nbformat": 4,
 "nbformat_minor": 2
}
