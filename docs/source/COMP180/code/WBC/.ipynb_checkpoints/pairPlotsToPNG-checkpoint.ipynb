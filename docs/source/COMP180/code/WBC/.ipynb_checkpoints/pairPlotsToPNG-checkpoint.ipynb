{
 "cells": [
  {
   "cell_type": "code",
   "execution_count": null,
   "metadata": {},
   "outputs": [],
   "source": [
    "# This notebook reads the WBC data file, drops the ID\n",
    "# column and then produces a massive image file with\n",
    "# the pairplots between all variables in the dataset.\n",
    "#\n",
    "# The resulting file name is output.png and it is saved\n",
    "# in the same folder where this notebook and the dataset\n",
    "# are saved.\n",
    "# \n",
    "# line up some tools\n",
    "#\n",
    "import pandas as pd \n",
    "import numpy as np\n",
    "import matplotlib.pyplot as plt\n",
    "import seaborn as sns\n",
    "%matplotlib inline"
   ]
  },
  {
   "cell_type": "code",
   "execution_count": null,
   "metadata": {},
   "outputs": [],
   "source": [
    "breast_cancer = pd.read_csv('wisconsin breast cancer data.csv')\n",
    "breast_cancer=breast_cancer.drop(['id'],axis=1)"
   ]
  },
  {
   "cell_type": "code",
   "execution_count": null,
   "metadata": {},
   "outputs": [],
   "source": [
    "# Set parameter height to the desired size of the individual\n",
    "# correlation plot. There are approximately 30x30 plots in this\n",
    "# set, so height=10 will result to approx 300x300 inch output,\n",
    "# which will yield a ~21MB PNG file.\n",
    "# \n",
    "# Height is set to 2, below, for testing purposes.\n",
    "\n",
    "correlationPlots = sns.pairplot(breast_cancer, hue='diagnosis',height=10)\n",
    "correlationPlots.savefig(\"output.png\")"
   ]
  },
  {
   "cell_type": "code",
   "execution_count": null,
   "metadata": {},
   "outputs": [],
   "source": []
  }
 ],
 "metadata": {
  "kernelspec": {
   "display_name": "Python 3",
   "language": "python",
   "name": "python3"
  },
  "language_info": {
   "codemirror_mode": {
    "name": "ipython",
    "version": 3
   },
   "file_extension": ".py",
   "mimetype": "text/x-python",
   "name": "python",
   "nbconvert_exporter": "python",
   "pygments_lexer": "ipython3",
   "version": "3.7.3"
  }
 },
 "nbformat": 4,
 "nbformat_minor": 2
}
