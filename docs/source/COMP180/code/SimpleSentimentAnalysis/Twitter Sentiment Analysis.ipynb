{
 "cells": [
  {
   "cell_type": "markdown",
   "metadata": {},
   "source": [
    "### A simple example of sentiment analysis\n",
    "\n",
    "We establish a connection to Twitter, and pull as many tweets as we can from a major account, to perform sentiment analysis. Sentiment is classified as positive, neutral, or negative, based on a tweet's pure text, once all extraneous content (such as URLs etc) has been removed.\n",
    "\n"
   ]
  },
  {
   "cell_type": "markdown",
   "metadata": {},
   "source": [
    "#### First let's specify which account we want to analyze\n",
    "\n",
    "It's always interesting to look at high profile, frequently used accounts. Write the twitter screen name you want to study below, between the two single quotes, without the @ symbol."
   ]
  },
  {
   "cell_type": "code",
   "execution_count": 1,
   "metadata": {},
   "outputs": [],
   "source": [
    "# Enter a Twitter screen name \n",
    "ANALYSE_THIS = \"realDonaldTrump\""
   ]
  },
  {
   "cell_type": "markdown",
   "metadata": {},
   "source": [
    "#### Next, let's get our toolbox ready\n",
    "\n",
    "`tweepy` is a library for accessing Twitter's API  \n",
    "`pandas` is our trusted toolbox for dataframes  \n",
    "`numpy` is the best toolbox for various numerical tasks\n",
    "\n",
    "We also use `display`, `pyplot`, and `seaborn` for various visualization tasks.\n"
   ]
  },
  {
   "cell_type": "code",
   "execution_count": 2,
   "metadata": {},
   "outputs": [],
   "source": [
    "# General:\n",
    "import tweepy           # To consume Twitter's API\n",
    "import pandas as pd     # To handle data\n",
    "import numpy as np      # For number computing\n",
    "\n",
    "# For plotting and visualization:\n",
    "from IPython.display import display\n",
    "import matplotlib.pyplot as plt\n",
    "import seaborn as sns\n",
    "%matplotlib inline"
   ]
  },
  {
   "cell_type": "markdown",
   "metadata": {},
   "source": [
    "#### Connect to Twitter\n",
    "Establish API connection to Twitter using `credentials.py`"
   ]
  },
  {
   "cell_type": "code",
   "execution_count": 3,
   "metadata": {},
   "outputs": [],
   "source": [
    "# My access keys are in ./credentials.py\n",
    "# Importing them in this manner will allow me to \n",
    "# use them as variables, below.\n",
    "from credentials import *    \n",
    "\n",
    "# API setup:\n",
    "def twitter_setup():\n",
    "    \"\"\"\n",
    "    Utility function to setup the Twitter's API\n",
    "    with access keys provided through credentials.py\n",
    "    \"\"\"\n",
    "    # Authentication and access using keys:\n",
    "    auth = tweepy.OAuthHandler(CONSUMER_KEY, CONSUMER_SECRET)\n",
    "    auth.set_access_token(ACCESS_TOKEN, ACCESS_SECRET)\n",
    "\n",
    "    # Return API with authentication:\n",
    "    api = tweepy.API(auth)\n",
    "    return api"
   ]
  },
  {
   "cell_type": "markdown",
   "metadata": {},
   "source": [
    "#### Pull data from Twitter\n",
    "\n",
    "The Twitter API allows us to pull only 200 tweets."
   ]
  },
  {
   "cell_type": "code",
   "execution_count": 23,
   "metadata": {},
   "outputs": [
    {
     "name": "stdout",
     "output_type": "stream",
     "text": [
      "Number of tweets extracted: 200.\n",
      "\n",
      "10 recent tweets:\n",
      "\n",
      "RT @realDonaldTrump: Steve is one of the very best in the Senate. He is competing against a failed Democrat Presidential candidate who neve…\n",
      "\n",
      "RT @SenJohnBarrasso: People are facing challenges all across the country. I sat down with @ShannonBream tonight to discuss how Congress is…\n",
      "\n",
      "RT @SenShelby: The Senate remains in session this week working to pass monumental legislation to combat the Coronavirus &amp; help the American…\n",
      "\n",
      "RT @JohnCornyn: Do you know the symptoms of #COVID19? Difficulty breathing, persistent pain or pressure in the chest, confusion, bluish lip…\n",
      "\n",
      "RT @SenHydeSmith: #Telehealth is a valuable tool to provide care &amp; protect people in this #COVID19pandemic. Pleased @realdonaldtrump &amp; task…\n",
      "\n",
      "RT @senatemajldr: It is my intention that the Senate will not adjourn until we have passed significant and bold new steps, above and beyond…\n",
      "\n",
      "RT @SenJohnThune: Everything we’re doing right now is time-sensitive. Just left lunch with @SenateGOP &amp; @StevenMnuchin1. We’re working as a…\n",
      "\n",
      "RT @SenCoryGardner: We need to provide real relief to American workers who have been impacted by #COVID19, and we need to do it right now.…\n",
      "\n",
      "RT @marcorubio: Made good progress on getting 💰 into the hands of small businesses so they don’t have to lay off their workers.\n",
      "\n",
      "Senate isn…\n",
      "\n",
      "RT @SenateGOP: Conference Chairman @SenJohnBarrasso:\n",
      "\n",
      "It is the millennials who will make the difference in slowing the spread of this dise…\n",
      "\n"
     ]
    }
   ],
   "source": [
    "# Twitter content received via API\n",
    "stream = twitter_setup()\n",
    "\n",
    "# method applied on stream:\n",
    "#   .timeline() to specify twitter user and number of tweets to pull\n",
    "#   max 200 tweets for now.\n",
    "tweets = stream.user_timeline(screen_name=ANALYSE_THIS, count=500)\n",
    "\n",
    "print(\"Number of tweets extracted: {}.\\n\".format(len(tweets)))\n",
    "\n",
    "# Show the 10 most recent tweets:\n",
    "print(\"10 recent tweets:\\n\")\n",
    "for tweet in tweets[:10]:\n",
    "    print(tweet.text)\n",
    "    print()"
   ]
  },
  {
   "cell_type": "markdown",
   "metadata": {},
   "source": [
    "#### Create a dataframe\n",
    "\n",
    "The tweet(s) above are objects in the class `tweets` and `.text` one of the class methods. So we need to create dataframes, using these objects, to take advantage of *pandas* tools. We can dissect the structure of the class with \n",
    "`print(dir(tweets[0]))`"
   ]
  },
  {
   "cell_type": "code",
   "execution_count": 24,
   "metadata": {},
   "outputs": [
    {
     "data": {
      "text/html": [
       "<div>\n",
       "<style scoped>\n",
       "    .dataframe tbody tr th:only-of-type {\n",
       "        vertical-align: middle;\n",
       "    }\n",
       "\n",
       "    .dataframe tbody tr th {\n",
       "        vertical-align: top;\n",
       "    }\n",
       "\n",
       "    .dataframe thead th {\n",
       "        text-align: right;\n",
       "    }\n",
       "</style>\n",
       "<table border=\"1\" class=\"dataframe\">\n",
       "  <thead>\n",
       "    <tr style=\"text-align: right;\">\n",
       "      <th></th>\n",
       "      <th>Tweets</th>\n",
       "    </tr>\n",
       "  </thead>\n",
       "  <tbody>\n",
       "    <tr>\n",
       "      <th>0</th>\n",
       "      <td>RT @realDonaldTrump: Steve is one of the very ...</td>\n",
       "    </tr>\n",
       "    <tr>\n",
       "      <th>1</th>\n",
       "      <td>RT @SenJohnBarrasso: People are facing challen...</td>\n",
       "    </tr>\n",
       "    <tr>\n",
       "      <th>2</th>\n",
       "      <td>RT @SenShelby: The Senate remains in session t...</td>\n",
       "    </tr>\n",
       "    <tr>\n",
       "      <th>3</th>\n",
       "      <td>RT @JohnCornyn: Do you know the symptoms of #C...</td>\n",
       "    </tr>\n",
       "    <tr>\n",
       "      <th>4</th>\n",
       "      <td>RT @SenHydeSmith: #Telehealth is a valuable to...</td>\n",
       "    </tr>\n",
       "  </tbody>\n",
       "</table>\n",
       "</div>"
      ],
      "text/plain": [
       "                                              Tweets\n",
       "0  RT @realDonaldTrump: Steve is one of the very ...\n",
       "1  RT @SenJohnBarrasso: People are facing challen...\n",
       "2  RT @SenShelby: The Senate remains in session t...\n",
       "3  RT @JohnCornyn: Do you know the symptoms of #C...\n",
       "4  RT @SenHydeSmith: #Telehealth is a valuable to..."
      ]
     },
     "metadata": {},
     "output_type": "display_data"
    }
   ],
   "source": [
    "# The data frame tdf (Tweets Data Frame) comprises\n",
    "# the text from every item in the tweets collection\n",
    "# and we assign the column label 'Tweets'\n",
    "tdf = pd.DataFrame(data=[tweet.text for tweet in tweets], columns=['Tweets'])\n",
    "\n",
    "# Display a few elements of tdf to make sure the \n",
    "# conversion worked.\n",
    "display(tdf.head(5))\n"
   ]
  },
  {
   "cell_type": "markdown",
   "metadata": {},
   "source": [
    "#### Enrich the dataframe\n",
    "\n",
    "The dataframe above shows minimal data, but there is a wealth of information \"hiding\" inside the tweet objects. We extract some of that information to enrich the dataframe."
   ]
  },
  {
   "cell_type": "code",
   "execution_count": 25,
   "metadata": {},
   "outputs": [
    {
     "data": {
      "text/html": [
       "<div>\n",
       "<style scoped>\n",
       "    .dataframe tbody tr th:only-of-type {\n",
       "        vertical-align: middle;\n",
       "    }\n",
       "\n",
       "    .dataframe tbody tr th {\n",
       "        vertical-align: top;\n",
       "    }\n",
       "\n",
       "    .dataframe thead th {\n",
       "        text-align: right;\n",
       "    }\n",
       "</style>\n",
       "<table border=\"1\" class=\"dataframe\">\n",
       "  <thead>\n",
       "    <tr style=\"text-align: right;\">\n",
       "      <th></th>\n",
       "      <th>Tweets</th>\n",
       "      <th>len</th>\n",
       "      <th>ID</th>\n",
       "      <th>Date</th>\n",
       "      <th>Source</th>\n",
       "      <th>Likes</th>\n",
       "      <th>RTs</th>\n",
       "    </tr>\n",
       "  </thead>\n",
       "  <tbody>\n",
       "    <tr>\n",
       "      <th>0</th>\n",
       "      <td>RT @realDonaldTrump: Steve is one of the very ...</td>\n",
       "      <td>140</td>\n",
       "      <td>1240862231593725952</td>\n",
       "      <td>2020-03-20 04:46:24</td>\n",
       "      <td>Twitter for iPhone</td>\n",
       "      <td>0</td>\n",
       "      <td>9478</td>\n",
       "    </tr>\n",
       "    <tr>\n",
       "      <th>1</th>\n",
       "      <td>RT @SenJohnBarrasso: People are facing challen...</td>\n",
       "      <td>139</td>\n",
       "      <td>1240861741430554624</td>\n",
       "      <td>2020-03-20 04:44:27</td>\n",
       "      <td>Twitter for iPhone</td>\n",
       "      <td>0</td>\n",
       "      <td>2849</td>\n",
       "    </tr>\n",
       "    <tr>\n",
       "      <th>2</th>\n",
       "      <td>RT @SenShelby: The Senate remains in session t...</td>\n",
       "      <td>144</td>\n",
       "      <td>1240861506968977409</td>\n",
       "      <td>2020-03-20 04:43:32</td>\n",
       "      <td>Twitter for iPhone</td>\n",
       "      <td>0</td>\n",
       "      <td>2305</td>\n",
       "    </tr>\n",
       "    <tr>\n",
       "      <th>3</th>\n",
       "      <td>RT @JohnCornyn: Do you know the symptoms of #C...</td>\n",
       "      <td>140</td>\n",
       "      <td>1240861459053248512</td>\n",
       "      <td>2020-03-20 04:43:20</td>\n",
       "      <td>Twitter for iPhone</td>\n",
       "      <td>0</td>\n",
       "      <td>3109</td>\n",
       "    </tr>\n",
       "    <tr>\n",
       "      <th>4</th>\n",
       "      <td>RT @SenHydeSmith: #Telehealth is a valuable to...</td>\n",
       "      <td>148</td>\n",
       "      <td>1240861417714089985</td>\n",
       "      <td>2020-03-20 04:43:10</td>\n",
       "      <td>Twitter for iPhone</td>\n",
       "      <td>0</td>\n",
       "      <td>2100</td>\n",
       "    </tr>\n",
       "  </tbody>\n",
       "</table>\n",
       "</div>"
      ],
      "text/plain": [
       "                                              Tweets  len  \\\n",
       "0  RT @realDonaldTrump: Steve is one of the very ...  140   \n",
       "1  RT @SenJohnBarrasso: People are facing challen...  139   \n",
       "2  RT @SenShelby: The Senate remains in session t...  144   \n",
       "3  RT @JohnCornyn: Do you know the symptoms of #C...  140   \n",
       "4  RT @SenHydeSmith: #Telehealth is a valuable to...  148   \n",
       "\n",
       "                    ID                Date              Source  Likes   RTs  \n",
       "0  1240862231593725952 2020-03-20 04:46:24  Twitter for iPhone      0  9478  \n",
       "1  1240861741430554624 2020-03-20 04:44:27  Twitter for iPhone      0  2849  \n",
       "2  1240861506968977409 2020-03-20 04:43:32  Twitter for iPhone      0  2305  \n",
       "3  1240861459053248512 2020-03-20 04:43:20  Twitter for iPhone      0  3109  \n",
       "4  1240861417714089985 2020-03-20 04:43:10  Twitter for iPhone      0  2100  "
      ]
     },
     "metadata": {},
     "output_type": "display_data"
    }
   ],
   "source": [
    "# Time to expand tdf with information about:\n",
    "#       len: number of characters in tweet\n",
    "#        ID: tweet's id\n",
    "#      Date: date tweet was sent\n",
    "#    Source: device used to send tweet\n",
    "#     Likes: how many so far\n",
    "#       RTs: number of retweets\n",
    "#\n",
    "# Use numpy's array to add the new columns in the dataframe tdf\n",
    "\n",
    "tdf['len']    = np.array([len(tweet.text) for tweet in tweets])\n",
    "tdf['ID']     = np.array([tweet.id for tweet in tweets])\n",
    "tdf['Date']   = np.array([tweet.created_at for tweet in tweets])\n",
    "tdf['Source'] = np.array([tweet.source for tweet in tweets])\n",
    "tdf['Likes']  = np.array([tweet.favorite_count for tweet in tweets])\n",
    "tdf['RTs']    = np.array([tweet.retweet_count for tweet in tweets])\n",
    "\n",
    "# quick printout to get a sense of what the dataframe looks now\n",
    "display(tdf.head(5))"
   ]
  },
  {
   "cell_type": "markdown",
   "metadata": {},
   "source": [
    "### Average number of characters per tweet"
   ]
  },
  {
   "cell_type": "code",
   "execution_count": 26,
   "metadata": {},
   "outputs": [
    {
     "name": "stdout",
     "output_type": "stream",
     "text": [
      "The lenght's average in tweets: 119.78\n"
     ]
    }
   ],
   "source": [
    "averageCharacters = np.mean(tdf['len'])\n",
    "\n",
    "print(\"The lenght's average in tweets: {}\".format(averageCharacters))"
   ]
  },
  {
   "cell_type": "markdown",
   "metadata": {},
   "source": [
    "#### Likes and retweets"
   ]
  },
  {
   "cell_type": "code",
   "execution_count": 27,
   "metadata": {},
   "outputs": [
    {
     "name": "stdout",
     "output_type": "stream",
     "text": [
      "The tweet with more likes is: \n",
      "THE UNITED STATES LOVES ITALY! https://t.co/DESUJ4QM41\n",
      "Number of likes: 631632\n",
      "54 characters.\n",
      "\n",
      "The tweet with more retweets is: \n",
      "THE UNITED STATES LOVES ITALY! https://t.co/DESUJ4QM41\n",
      "Number of retweets: 112086\n",
      "54 characters.\n",
      "\n"
     ]
    }
   ],
   "source": [
    "# We extract the tweet with more FAVs and more RTs:\n",
    "\n",
    "fav_max = np.max(tdf['Likes'])\n",
    "rt_max  = np.max(tdf['RTs'])\n",
    "\n",
    "fav = tdf[tdf.Likes == fav_max].index[0]\n",
    "rt  = tdf[tdf.RTs == rt_max].index[0]\n",
    "\n",
    "# Max FAVs:\n",
    "print(\"The tweet with more likes is: \\n{}\".format(tdf['Tweets'][fav]))\n",
    "print(\"Number of likes: {}\".format(fav_max))\n",
    "print(\"{} characters.\\n\".format(tdf['len'][fav]))\n",
    "\n",
    "# Max RTs:\n",
    "print(\"The tweet with more retweets is: \\n{}\".format(tdf['Tweets'][rt]))\n",
    "print(\"Number of retweets: {}\".format(rt_max))\n",
    "print(\"{} characters.\\n\".format(tdf['len'][rt]))"
   ]
  },
  {
   "cell_type": "markdown",
   "metadata": {},
   "source": [
    "#### Times series\n",
    "\n",
    "How do the tweets' characteristics change over time? For example, is there a pattern in the number of characters? The likes? The retweets?"
   ]
  },
  {
   "cell_type": "code",
   "execution_count": 28,
   "metadata": {},
   "outputs": [],
   "source": [
    "# Time series for data:\n",
    "# tlen: timeseries of tweets' length (number of characters)\n",
    "# tfav: timeseries of tweets' likes\n",
    "# tret: timeseries of tweets' retweets\n",
    "#\n",
    "# All series below are defined against 'Date' -- hence, timeseries\n",
    "\n",
    "tlen = pd.Series(data=tdf['len'].values, index=tdf['Date'])\n",
    "tfav = pd.Series(data=tdf['Likes'].values, index=tdf['Date'])\n",
    "tret = pd.Series(data=tdf['RTs'].values, index=tdf['Date'])\n"
   ]
  },
  {
   "cell_type": "markdown",
   "metadata": {},
   "source": [
    "#### Plot tweet length timeseries\n",
    "Not much pattern here."
   ]
  },
  {
   "cell_type": "code",
   "execution_count": 29,
   "metadata": {},
   "outputs": [
    {
     "data": {
      "image/png": "[encoded data removed]",
      "text/plain": [
       "<Figure size 1152x288 with 1 Axes>"
      ]
     },
     "metadata": {
      "needs_background": "light"
     },
     "output_type": "display_data"
    }
   ],
   "source": [
    "tlen.plot(figsize=(16,4), color='r');\n",
    "\n",
    "\n"
   ]
  },
  {
   "cell_type": "markdown",
   "metadata": {},
   "source": [
    "#### Plot timeseries for likes\n",
    "\n",
    "Not much help here; no discernible pattern."
   ]
  },
  {
   "cell_type": "code",
   "execution_count": 30,
   "metadata": {},
   "outputs": [
    {
     "data": {
      "image/png": "[encoded data removed]",
      "text/plain": [
       "<Figure size 1152x288 with 1 Axes>"
      ]
     },
     "metadata": {
      "needs_background": "light"
     },
     "output_type": "display_data"
    }
   ],
   "source": [
    "tfav.plot(figsize=(16,4), color='r');"
   ]
  },
  {
   "cell_type": "markdown",
   "metadata": {},
   "source": [
    "#### Plot timeseries for retweets"
   ]
  },
  {
   "cell_type": "code",
   "execution_count": 31,
   "metadata": {},
   "outputs": [
    {
     "data": {
      "image/png": "[encoded data removed]",
      "text/plain": [
       "<Figure size 1152x288 with 1 Axes>"
      ]
     },
     "metadata": {
      "needs_background": "light"
     },
     "output_type": "display_data"
    }
   ],
   "source": [
    "tret.plot(figsize=(16,4), color='r');"
   ]
  },
  {
   "cell_type": "markdown",
   "metadata": {},
   "source": [
    "#### Where are they sent from?\n",
    "\n",
    "Tweets are sent from a variety of sources (devices), such as desktop applications, smartphones, websites, etc. We look at the `Source` column of our dataframe to see how many different sources are used. We start with an empty array (`sources[]`) and everytime we detect a new source in the dataframe, we add it to this array."
   ]
  },
  {
   "cell_type": "code",
   "execution_count": 32,
   "metadata": {},
   "outputs": [
    {
     "name": "stdout",
     "output_type": "stream",
     "text": [
      "Creation of content sources:\n",
      "* Twitter for iPhone\n"
     ]
    }
   ],
   "source": [
    "# Obtain all possible sources:\n",
    "sources = []\n",
    "for source in tdf['Source']:\n",
    "    if source not in sources:\n",
    "        sources.append(source)\n",
    "\n",
    "# We print sources list:\n",
    "print(\"Creation of content sources:\")\n",
    "for source in sources:\n",
    "    print(\"* {}\".format(source))"
   ]
  },
  {
   "cell_type": "markdown",
   "metadata": {},
   "source": [
    "#### Pie Chart\n",
    "How often is a source used in comparison to others? A pie-chart will provide some insight."
   ]
  },
  {
   "cell_type": "code",
   "execution_count": 33,
   "metadata": {},
   "outputs": [
    {
     "data": {
      "image/png": "[encoded data removed]",
      "text/plain": [
       "<Figure size 432x432 with 1 Axes>"
      ]
     },
     "metadata": {},
     "output_type": "display_data"
    }
   ],
   "source": [
    "# We create a numpy vector mapped to labels:\n",
    "percent = np.zeros(len(sources))\n",
    "\n",
    "# Go through each tweet, check its Source, and increase\n",
    "# the corresponding element of the percent vector\n",
    "for source in tdf['Source']:\n",
    "    for index in range(len(sources)):\n",
    "        if source == sources[index]:\n",
    "            percent[index] += 1\n",
    "            pass\n",
    "\n",
    "percent /= 100 # normalize percent vector to 100.\n",
    "\n",
    "# Pie chart:\n",
    "pie_chart = pd.Series(percent, index=sources, name='Sources')\n",
    "\n",
    "pie_chart\n",
    "\n",
    "pie_chart.plot.pie(fontsize=11, autopct='%.2f', figsize=(6, 6));"
   ]
  },
  {
   "cell_type": "markdown",
   "metadata": {},
   "source": [
    "#### Sentiment analysis\n",
    "\n",
    "We use the `textblob` library to analyze sentiment, since it has a nicely trained classifier already built-in. The sentiment analysis method in `textblob` works well with plain text, so first we must clean up the tweets' text and remove any special characters, emoticons, URLs, etc. We accomplish that with the regular expression package `re`. Note that while `textblob`'s sentiment analysis returns a continuum of real numbers, our function below maps polarity to just three values: -1 for negative tweets, 0 for neutral, and +1 for positive."
   ]
  },
  {
   "cell_type": "code",
   "execution_count": 48,
   "metadata": {},
   "outputs": [],
   "source": [
    "from textblob import TextBlob\n",
    "import re\n",
    "\n",
    "def clean_tweet(tweet):\n",
    "    '''\n",
    "    Utility function to clean the text in a tweet by removing \n",
    "    links and special characters using regex.\n",
    "    '''\n",
    "    return ' '.join(re.sub(\"(@[A-Za-z0-9]+)|([^0-9A-Za-z \\t])|(\\w+:\\/\\/\\S+)\", \" \", tweet).split())\n",
    "\n",
    "def analize_sentiment(tweet):\n",
    "    '''\n",
    "    Utility function to classify the polarity of a tweet\n",
    "    using textblob.\n",
    "    '''\n",
    "    analysis = TextBlob(clean_tweet(tweet))\n",
    "    if analysis.sentiment.polarity > 0:\n",
    "        return 1\n",
    "    elif analysis.sentiment.polarity == 0:\n",
    "        return 0\n",
    "    else:\n",
    "        return -1\n",
    "    \n"
   ]
  },
  {
   "cell_type": "markdown",
   "metadata": {},
   "source": [
    "#### Further enrichment of our dataframe\n",
    "\n",
    "We add one more columb to `tdf` to contain the categorical polarity value, i.e., -1 for negative content, 0 for neutral, +1 for positive."
   ]
  },
  {
   "cell_type": "code",
   "execution_count": 53,
   "metadata": {},
   "outputs": [
    {
     "data": {
      "text/html": [
       "<div>\n",
       "<style scoped>\n",
       "    .dataframe tbody tr th:only-of-type {\n",
       "        vertical-align: middle;\n",
       "    }\n",
       "\n",
       "    .dataframe tbody tr th {\n",
       "        vertical-align: top;\n",
       "    }\n",
       "\n",
       "    .dataframe thead th {\n",
       "        text-align: right;\n",
       "    }\n",
       "</style>\n",
       "<table border=\"1\" class=\"dataframe\">\n",
       "  <thead>\n",
       "    <tr style=\"text-align: right;\">\n",
       "      <th></th>\n",
       "      <th>Tweets</th>\n",
       "      <th>len</th>\n",
       "      <th>ID</th>\n",
       "      <th>Date</th>\n",
       "      <th>Source</th>\n",
       "      <th>Likes</th>\n",
       "      <th>RTs</th>\n",
       "      <th>Sentiment</th>\n",
       "    </tr>\n",
       "  </thead>\n",
       "  <tbody>\n",
       "    <tr>\n",
       "      <th>0</th>\n",
       "      <td>RT @realDonaldTrump: Steve is one of the very ...</td>\n",
       "      <td>140</td>\n",
       "      <td>1240862231593725952</td>\n",
       "      <td>2020-03-20 04:46:24</td>\n",
       "      <td>Twitter for iPhone</td>\n",
       "      <td>0</td>\n",
       "      <td>9478</td>\n",
       "      <td>1</td>\n",
       "    </tr>\n",
       "    <tr>\n",
       "      <th>1</th>\n",
       "      <td>RT @SenJohnBarrasso: People are facing challen...</td>\n",
       "      <td>139</td>\n",
       "      <td>1240861741430554624</td>\n",
       "      <td>2020-03-20 04:44:27</td>\n",
       "      <td>Twitter for iPhone</td>\n",
       "      <td>0</td>\n",
       "      <td>2849</td>\n",
       "      <td>-1</td>\n",
       "    </tr>\n",
       "    <tr>\n",
       "      <th>2</th>\n",
       "      <td>RT @SenShelby: The Senate remains in session t...</td>\n",
       "      <td>144</td>\n",
       "      <td>1240861506968977409</td>\n",
       "      <td>2020-03-20 04:43:32</td>\n",
       "      <td>Twitter for iPhone</td>\n",
       "      <td>0</td>\n",
       "      <td>2305</td>\n",
       "      <td>0</td>\n",
       "    </tr>\n",
       "    <tr>\n",
       "      <th>3</th>\n",
       "      <td>RT @JohnCornyn: Do you know the symptoms of #C...</td>\n",
       "      <td>140</td>\n",
       "      <td>1240861459053248512</td>\n",
       "      <td>2020-03-20 04:43:20</td>\n",
       "      <td>Twitter for iPhone</td>\n",
       "      <td>0</td>\n",
       "      <td>3109</td>\n",
       "      <td>0</td>\n",
       "    </tr>\n",
       "    <tr>\n",
       "      <th>4</th>\n",
       "      <td>RT @SenHydeSmith: #Telehealth is a valuable to...</td>\n",
       "      <td>148</td>\n",
       "      <td>1240861417714089985</td>\n",
       "      <td>2020-03-20 04:43:10</td>\n",
       "      <td>Twitter for iPhone</td>\n",
       "      <td>0</td>\n",
       "      <td>2100</td>\n",
       "      <td>1</td>\n",
       "    </tr>\n",
       "    <tr>\n",
       "      <th>5</th>\n",
       "      <td>RT @senatemajldr: It is my intention that the ...</td>\n",
       "      <td>140</td>\n",
       "      <td>1240861235899518976</td>\n",
       "      <td>2020-03-20 04:42:27</td>\n",
       "      <td>Twitter for iPhone</td>\n",
       "      <td>0</td>\n",
       "      <td>9731</td>\n",
       "      <td>1</td>\n",
       "    </tr>\n",
       "    <tr>\n",
       "      <th>6</th>\n",
       "      <td>RT @SenJohnThune: Everything we’re doing right...</td>\n",
       "      <td>144</td>\n",
       "      <td>1240861186960261120</td>\n",
       "      <td>2020-03-20 04:42:15</td>\n",
       "      <td>Twitter for iPhone</td>\n",
       "      <td>0</td>\n",
       "      <td>1974</td>\n",
       "      <td>1</td>\n",
       "    </tr>\n",
       "    <tr>\n",
       "      <th>7</th>\n",
       "      <td>RT @SenCoryGardner: We need to provide real re...</td>\n",
       "      <td>139</td>\n",
       "      <td>1240861150990012416</td>\n",
       "      <td>2020-03-20 04:42:07</td>\n",
       "      <td>Twitter for iPhone</td>\n",
       "      <td>0</td>\n",
       "      <td>1964</td>\n",
       "      <td>1</td>\n",
       "    </tr>\n",
       "    <tr>\n",
       "      <th>8</th>\n",
       "      <td>RT @marcorubio: Made good progress on getting ...</td>\n",
       "      <td>140</td>\n",
       "      <td>1240861076880842754</td>\n",
       "      <td>2020-03-20 04:41:49</td>\n",
       "      <td>Twitter for iPhone</td>\n",
       "      <td>0</td>\n",
       "      <td>2242</td>\n",
       "      <td>1</td>\n",
       "    </tr>\n",
       "    <tr>\n",
       "      <th>9</th>\n",
       "      <td>RT @SenateGOP: Conference Chairman @SenJohnBar...</td>\n",
       "      <td>140</td>\n",
       "      <td>1240860970223894529</td>\n",
       "      <td>2020-03-20 04:41:24</td>\n",
       "      <td>Twitter for iPhone</td>\n",
       "      <td>0</td>\n",
       "      <td>1948</td>\n",
       "      <td>0</td>\n",
       "    </tr>\n",
       "  </tbody>\n",
       "</table>\n",
       "</div>"
      ],
      "text/plain": [
       "                                              Tweets  len  \\\n",
       "0  RT @realDonaldTrump: Steve is one of the very ...  140   \n",
       "1  RT @SenJohnBarrasso: People are facing challen...  139   \n",
       "2  RT @SenShelby: The Senate remains in session t...  144   \n",
       "3  RT @JohnCornyn: Do you know the symptoms of #C...  140   \n",
       "4  RT @SenHydeSmith: #Telehealth is a valuable to...  148   \n",
       "5  RT @senatemajldr: It is my intention that the ...  140   \n",
       "6  RT @SenJohnThune: Everything we’re doing right...  144   \n",
       "7  RT @SenCoryGardner: We need to provide real re...  139   \n",
       "8  RT @marcorubio: Made good progress on getting ...  140   \n",
       "9  RT @SenateGOP: Conference Chairman @SenJohnBar...  140   \n",
       "\n",
       "                    ID                Date              Source  Likes   RTs  \\\n",
       "0  1240862231593725952 2020-03-20 04:46:24  Twitter for iPhone      0  9478   \n",
       "1  1240861741430554624 2020-03-20 04:44:27  Twitter for iPhone      0  2849   \n",
       "2  1240861506968977409 2020-03-20 04:43:32  Twitter for iPhone      0  2305   \n",
       "3  1240861459053248512 2020-03-20 04:43:20  Twitter for iPhone      0  3109   \n",
       "4  1240861417714089985 2020-03-20 04:43:10  Twitter for iPhone      0  2100   \n",
       "5  1240861235899518976 2020-03-20 04:42:27  Twitter for iPhone      0  9731   \n",
       "6  1240861186960261120 2020-03-20 04:42:15  Twitter for iPhone      0  1974   \n",
       "7  1240861150990012416 2020-03-20 04:42:07  Twitter for iPhone      0  1964   \n",
       "8  1240861076880842754 2020-03-20 04:41:49  Twitter for iPhone      0  2242   \n",
       "9  1240860970223894529 2020-03-20 04:41:24  Twitter for iPhone      0  1948   \n",
       "\n",
       "   Sentiment  \n",
       "0          1  \n",
       "1         -1  \n",
       "2          0  \n",
       "3          0  \n",
       "4          1  \n",
       "5          1  \n",
       "6          1  \n",
       "7          1  \n",
       "8          1  \n",
       "9          0  "
      ]
     },
     "metadata": {},
     "output_type": "display_data"
    }
   ],
   "source": [
    "# We create a column with the result of the analysis:\n",
    "tdf['Sentiment'] = np.array([ analize_sentiment(tweet) for tweet in tdf['Tweets'] ])\n",
    "\n",
    "# Display the updated dataframe with the new column:\n",
    "display(tdf.head(10))"
   ]
  },
  {
   "cell_type": "markdown",
   "metadata": {},
   "source": [
    "#### New dataframes\n",
    "\n",
    "We may want to look separately at positive, neutral, or negative content. So we create three new dataframes to contain only positive, neutral, or negative tweets. Positive tweets are stored in dataframe `pos_tweets` which is the result of a selection operation on our original dataframe `tdf` for `Sentiment` values > 0. Similar selection criteria are applied for neutral and negative tweets."
   ]
  },
  {
   "cell_type": "code",
   "execution_count": 50,
   "metadata": {},
   "outputs": [
    {
     "data": {
      "text/html": [
       "<div>\n",
       "<style scoped>\n",
       "    .dataframe tbody tr th:only-of-type {\n",
       "        vertical-align: middle;\n",
       "    }\n",
       "\n",
       "    .dataframe tbody tr th {\n",
       "        vertical-align: top;\n",
       "    }\n",
       "\n",
       "    .dataframe thead th {\n",
       "        text-align: right;\n",
       "    }\n",
       "</style>\n",
       "<table border=\"1\" class=\"dataframe\">\n",
       "  <thead>\n",
       "    <tr style=\"text-align: right;\">\n",
       "      <th></th>\n",
       "      <th>Tweets</th>\n",
       "      <th>len</th>\n",
       "      <th>ID</th>\n",
       "      <th>Date</th>\n",
       "      <th>Source</th>\n",
       "      <th>Likes</th>\n",
       "      <th>RTs</th>\n",
       "      <th>Sentiment</th>\n",
       "    </tr>\n",
       "  </thead>\n",
       "  <tbody>\n",
       "    <tr>\n",
       "      <th>0</th>\n",
       "      <td>RT @realDonaldTrump: Steve is one of the very ...</td>\n",
       "      <td>140</td>\n",
       "      <td>1240862231593725952</td>\n",
       "      <td>2020-03-20 04:46:24</td>\n",
       "      <td>Twitter for iPhone</td>\n",
       "      <td>0</td>\n",
       "      <td>9478</td>\n",
       "      <td>1</td>\n",
       "    </tr>\n",
       "    <tr>\n",
       "      <th>1</th>\n",
       "      <td>RT @SenJohnBarrasso: People are facing challen...</td>\n",
       "      <td>139</td>\n",
       "      <td>1240861741430554624</td>\n",
       "      <td>2020-03-20 04:44:27</td>\n",
       "      <td>Twitter for iPhone</td>\n",
       "      <td>0</td>\n",
       "      <td>2849</td>\n",
       "      <td>-1</td>\n",
       "    </tr>\n",
       "    <tr>\n",
       "      <th>2</th>\n",
       "      <td>RT @SenShelby: The Senate remains in session t...</td>\n",
       "      <td>144</td>\n",
       "      <td>1240861506968977409</td>\n",
       "      <td>2020-03-20 04:43:32</td>\n",
       "      <td>Twitter for iPhone</td>\n",
       "      <td>0</td>\n",
       "      <td>2305</td>\n",
       "      <td>0</td>\n",
       "    </tr>\n",
       "  </tbody>\n",
       "</table>\n",
       "</div>"
      ],
      "text/plain": [
       "                                              Tweets  len  \\\n",
       "0  RT @realDonaldTrump: Steve is one of the very ...  140   \n",
       "1  RT @SenJohnBarrasso: People are facing challen...  139   \n",
       "2  RT @SenShelby: The Senate remains in session t...  144   \n",
       "\n",
       "                    ID                Date              Source  Likes   RTs  \\\n",
       "0  1240862231593725952 2020-03-20 04:46:24  Twitter for iPhone      0  9478   \n",
       "1  1240861741430554624 2020-03-20 04:44:27  Twitter for iPhone      0  2849   \n",
       "2  1240861506968977409 2020-03-20 04:43:32  Twitter for iPhone      0  2305   \n",
       "\n",
       "   Sentiment  \n",
       "0          1  \n",
       "1         -1  \n",
       "2          0  "
      ]
     },
     "metadata": {},
     "output_type": "display_data"
    }
   ],
   "source": [
    "# We create a column with the result of the analysis:\n",
    "tdf['Sentiment'] = np.array([ analize_sentiment(tweet) for tweet in tdf['Tweets'] ])\n",
    "\n",
    "# Display the updated dataframe with the new column:\n",
    "display(tdf.head(3))\n",
    "\n",
    "# We construct lists with classified tweets:\n",
    "\n",
    "pos_tweets = [ tweet for index, tweet in enumerate(tdf['Tweets']) if tdf['Sentiment'][index] > 0]\n",
    "neu_tweets = [ tweet for index, tweet in enumerate(tdf['Tweets']) if tdf['Sentiment'][index] == 0]\n",
    "neg_tweets = [ tweet for index, tweet in enumerate(tdf['Tweets']) if tdf['Sentiment'][index] < 0]"
   ]
  },
  {
   "cell_type": "markdown",
   "metadata": {},
   "source": [
    "#### Report percentages"
   ]
  },
  {
   "cell_type": "code",
   "execution_count": 51,
   "metadata": {},
   "outputs": [
    {
     "name": "stdout",
     "output_type": "stream",
     "text": [
      "Percentage of positive tweets: 51.5%\n",
      "Percentage of neutral tweets: 31.0%\n",
      "Percentage of negative tweets: 17.5%\n"
     ]
    }
   ],
   "source": [
    "# We print percentages:\n",
    "\n",
    "print(\"Percentage of positive tweets: {}%\".format(len(pos_tweets)*100/len(tdf['Tweets'])))\n",
    "print(\"Percentage of neutral tweets: {}%\".format(len(neu_tweets)*100/len(tdf['Tweets'])))\n",
    "print(\"Percentage of negative tweets: {}%\".format(len(neg_tweets)*100/len(tdf['Tweets'])))"
   ]
  },
  {
   "cell_type": "code",
   "execution_count": 52,
   "metadata": {},
   "outputs": [
    {
     "data": {
      "image/png": "[encoded data removed]",
      "text/plain": [
       "<Figure size 432x432 with 1 Axes>"
      ]
     },
     "metadata": {},
     "output_type": "display_data"
    }
   ],
   "source": [
    "# Pie chart:\n",
    "\n",
    "sentimentPieData = [len(pos_tweets)*100/len(tdf['Tweets']), len(neu_tweets)*100/len(tdf['Tweets']), len(neg_tweets)*100/len(tdf['Tweets'])]\n",
    "sentimentPieLabels = ['positive','neutral','negative']\n",
    "sentimentPieColors = ['#aaaadd','#dddddd','#ddaaaa']\n",
    "\n",
    "pie_chart = pd.Series(sentimentPieData,index=sentimentPieLabels, name=\"Sentiment\")\n",
    "pie_chart.plot.pie(fontsize=11, autopct='%.2f', colors=sentimentPieColors,figsize=(6, 6));"
   ]
  },
  {
   "cell_type": "code",
   "execution_count": 54,
   "metadata": {},
   "outputs": [],
   "source": [
    "\n",
    "def polasubj(tweet):\n",
    "    '''\n",
    "    A function to return a category based both polarity and subjectivity\n",
    "    '''\n",
    "    analysis = TextBlob(clean_tweet(tweet))\n",
    "    pola = analysis.sentiment.polarity\n",
    "    subj = analysis.sentiment.subjectivity\n",
    "    ps = pola * subj\n",
    "    \n",
    "    if pola == 0:\n",
    "        if subj < 0.5:\n",
    "            return -1\n",
    "        else:\n",
    "            return 1\n",
    "    elif pola > 0:\n",
    "        return 1\n",
    "    else:\n",
    "        return -1"
   ]
  },
  {
   "cell_type": "code",
   "execution_count": 55,
   "metadata": {},
   "outputs": [
    {
     "data": {
      "text/html": [
       "<div>\n",
       "<style scoped>\n",
       "    .dataframe tbody tr th:only-of-type {\n",
       "        vertical-align: middle;\n",
       "    }\n",
       "\n",
       "    .dataframe tbody tr th {\n",
       "        vertical-align: top;\n",
       "    }\n",
       "\n",
       "    .dataframe thead th {\n",
       "        text-align: right;\n",
       "    }\n",
       "</style>\n",
       "<table border=\"1\" class=\"dataframe\">\n",
       "  <thead>\n",
       "    <tr style=\"text-align: right;\">\n",
       "      <th></th>\n",
       "      <th>Tweets</th>\n",
       "      <th>len</th>\n",
       "      <th>ID</th>\n",
       "      <th>Date</th>\n",
       "      <th>Source</th>\n",
       "      <th>Likes</th>\n",
       "      <th>RTs</th>\n",
       "      <th>Sentiment</th>\n",
       "      <th>Sentiment2</th>\n",
       "    </tr>\n",
       "  </thead>\n",
       "  <tbody>\n",
       "    <tr>\n",
       "      <th>0</th>\n",
       "      <td>RT @realDonaldTrump: Steve is one of the very ...</td>\n",
       "      <td>140</td>\n",
       "      <td>1240862231593725952</td>\n",
       "      <td>2020-03-20 04:46:24</td>\n",
       "      <td>Twitter for iPhone</td>\n",
       "      <td>0</td>\n",
       "      <td>9478</td>\n",
       "      <td>1</td>\n",
       "      <td>1</td>\n",
       "    </tr>\n",
       "    <tr>\n",
       "      <th>1</th>\n",
       "      <td>RT @SenJohnBarrasso: People are facing challen...</td>\n",
       "      <td>139</td>\n",
       "      <td>1240861741430554624</td>\n",
       "      <td>2020-03-20 04:44:27</td>\n",
       "      <td>Twitter for iPhone</td>\n",
       "      <td>0</td>\n",
       "      <td>2849</td>\n",
       "      <td>-1</td>\n",
       "      <td>-1</td>\n",
       "    </tr>\n",
       "    <tr>\n",
       "      <th>2</th>\n",
       "      <td>RT @SenShelby: The Senate remains in session t...</td>\n",
       "      <td>144</td>\n",
       "      <td>1240861506968977409</td>\n",
       "      <td>2020-03-20 04:43:32</td>\n",
       "      <td>Twitter for iPhone</td>\n",
       "      <td>0</td>\n",
       "      <td>2305</td>\n",
       "      <td>0</td>\n",
       "      <td>-1</td>\n",
       "    </tr>\n",
       "    <tr>\n",
       "      <th>3</th>\n",
       "      <td>RT @JohnCornyn: Do you know the symptoms of #C...</td>\n",
       "      <td>140</td>\n",
       "      <td>1240861459053248512</td>\n",
       "      <td>2020-03-20 04:43:20</td>\n",
       "      <td>Twitter for iPhone</td>\n",
       "      <td>0</td>\n",
       "      <td>3109</td>\n",
       "      <td>0</td>\n",
       "      <td>-1</td>\n",
       "    </tr>\n",
       "    <tr>\n",
       "      <th>4</th>\n",
       "      <td>RT @SenHydeSmith: #Telehealth is a valuable to...</td>\n",
       "      <td>148</td>\n",
       "      <td>1240861417714089985</td>\n",
       "      <td>2020-03-20 04:43:10</td>\n",
       "      <td>Twitter for iPhone</td>\n",
       "      <td>0</td>\n",
       "      <td>2100</td>\n",
       "      <td>1</td>\n",
       "      <td>1</td>\n",
       "    </tr>\n",
       "    <tr>\n",
       "      <th>5</th>\n",
       "      <td>RT @senatemajldr: It is my intention that the ...</td>\n",
       "      <td>140</td>\n",
       "      <td>1240861235899518976</td>\n",
       "      <td>2020-03-20 04:42:27</td>\n",
       "      <td>Twitter for iPhone</td>\n",
       "      <td>0</td>\n",
       "      <td>9731</td>\n",
       "      <td>1</td>\n",
       "      <td>1</td>\n",
       "    </tr>\n",
       "    <tr>\n",
       "      <th>6</th>\n",
       "      <td>RT @SenJohnThune: Everything we’re doing right...</td>\n",
       "      <td>144</td>\n",
       "      <td>1240861186960261120</td>\n",
       "      <td>2020-03-20 04:42:15</td>\n",
       "      <td>Twitter for iPhone</td>\n",
       "      <td>0</td>\n",
       "      <td>1974</td>\n",
       "      <td>1</td>\n",
       "      <td>1</td>\n",
       "    </tr>\n",
       "    <tr>\n",
       "      <th>7</th>\n",
       "      <td>RT @SenCoryGardner: We need to provide real re...</td>\n",
       "      <td>139</td>\n",
       "      <td>1240861150990012416</td>\n",
       "      <td>2020-03-20 04:42:07</td>\n",
       "      <td>Twitter for iPhone</td>\n",
       "      <td>0</td>\n",
       "      <td>1964</td>\n",
       "      <td>1</td>\n",
       "      <td>1</td>\n",
       "    </tr>\n",
       "    <tr>\n",
       "      <th>8</th>\n",
       "      <td>RT @marcorubio: Made good progress on getting ...</td>\n",
       "      <td>140</td>\n",
       "      <td>1240861076880842754</td>\n",
       "      <td>2020-03-20 04:41:49</td>\n",
       "      <td>Twitter for iPhone</td>\n",
       "      <td>0</td>\n",
       "      <td>2242</td>\n",
       "      <td>1</td>\n",
       "      <td>1</td>\n",
       "    </tr>\n",
       "    <tr>\n",
       "      <th>9</th>\n",
       "      <td>RT @SenateGOP: Conference Chairman @SenJohnBar...</td>\n",
       "      <td>140</td>\n",
       "      <td>1240860970223894529</td>\n",
       "      <td>2020-03-20 04:41:24</td>\n",
       "      <td>Twitter for iPhone</td>\n",
       "      <td>0</td>\n",
       "      <td>1948</td>\n",
       "      <td>0</td>\n",
       "      <td>-1</td>\n",
       "    </tr>\n",
       "  </tbody>\n",
       "</table>\n",
       "</div>"
      ],
      "text/plain": [
       "                                              Tweets  len  \\\n",
       "0  RT @realDonaldTrump: Steve is one of the very ...  140   \n",
       "1  RT @SenJohnBarrasso: People are facing challen...  139   \n",
       "2  RT @SenShelby: The Senate remains in session t...  144   \n",
       "3  RT @JohnCornyn: Do you know the symptoms of #C...  140   \n",
       "4  RT @SenHydeSmith: #Telehealth is a valuable to...  148   \n",
       "5  RT @senatemajldr: It is my intention that the ...  140   \n",
       "6  RT @SenJohnThune: Everything we’re doing right...  144   \n",
       "7  RT @SenCoryGardner: We need to provide real re...  139   \n",
       "8  RT @marcorubio: Made good progress on getting ...  140   \n",
       "9  RT @SenateGOP: Conference Chairman @SenJohnBar...  140   \n",
       "\n",
       "                    ID                Date              Source  Likes   RTs  \\\n",
       "0  1240862231593725952 2020-03-20 04:46:24  Twitter for iPhone      0  9478   \n",
       "1  1240861741430554624 2020-03-20 04:44:27  Twitter for iPhone      0  2849   \n",
       "2  1240861506968977409 2020-03-20 04:43:32  Twitter for iPhone      0  2305   \n",
       "3  1240861459053248512 2020-03-20 04:43:20  Twitter for iPhone      0  3109   \n",
       "4  1240861417714089985 2020-03-20 04:43:10  Twitter for iPhone      0  2100   \n",
       "5  1240861235899518976 2020-03-20 04:42:27  Twitter for iPhone      0  9731   \n",
       "6  1240861186960261120 2020-03-20 04:42:15  Twitter for iPhone      0  1974   \n",
       "7  1240861150990012416 2020-03-20 04:42:07  Twitter for iPhone      0  1964   \n",
       "8  1240861076880842754 2020-03-20 04:41:49  Twitter for iPhone      0  2242   \n",
       "9  1240860970223894529 2020-03-20 04:41:24  Twitter for iPhone      0  1948   \n",
       "\n",
       "   Sentiment  Sentiment2  \n",
       "0          1           1  \n",
       "1         -1          -1  \n",
       "2          0          -1  \n",
       "3          0          -1  \n",
       "4          1           1  \n",
       "5          1           1  \n",
       "6          1           1  \n",
       "7          1           1  \n",
       "8          1           1  \n",
       "9          0          -1  "
      ]
     },
     "metadata": {},
     "output_type": "display_data"
    },
    {
     "data": {
      "image/png": "[encoded data removed]",
      "text/plain": [
       "<Figure size 432x432 with 1 Axes>"
      ]
     },
     "metadata": {},
     "output_type": "display_data"
    }
   ],
   "source": [
    "# We create a column with the result of the analysis:\n",
    "tdf['Sentiment2'] = np.array([ polasubj(tweet) for tweet in tdf['Tweets'] ])\n",
    "\n",
    "# Display the updated dataframe with the new column:\n",
    "display(tdf.head(10))\n",
    "\n",
    "\n",
    "# We construct lists with classified tweets:\n",
    "\n",
    "pos_tweets2 = [ tweet for index, tweet in enumerate(tdf['Tweets']) if tdf['Sentiment2'][index] > 0]\n",
    "neu_tweets2 = [ tweet for index, tweet in enumerate(tdf['Tweets']) if tdf['Sentiment2'][index] == 0]\n",
    "neg_tweets2 = [ tweet for index, tweet in enumerate(tdf['Tweets']) if tdf['Sentiment2'][index] < 0]\n",
    "\n",
    "# Pie chart:\n",
    "\n",
    "sentimentPieData = [len(pos_tweets2)*100/len(tdf['Tweets']), len(neu_tweets2)*100/len(tdf['Tweets']), len(neg_tweets2)*100/len(tdf['Tweets'])]\n",
    "sentimentPieLabels = ['positive','neutral','negative']\n",
    "sentimentPieColors = ['#aaaadd','#dddddd','#ddaaaa']\n",
    "\n",
    "pie_chart = pd.Series(sentimentPieData,index=sentimentPieLabels, name=\"Sentiment\")\n",
    "pie_chart.plot.pie(fontsize=11, autopct='%.2f', colors=sentimentPieColors,figsize=(6, 6));\n"
   ]
  },
  {
   "cell_type": "code",
   "execution_count": null,
   "metadata": {},
   "outputs": [],
   "source": []
  },
  {
   "cell_type": "code",
   "execution_count": null,
   "metadata": {},
   "outputs": [],
   "source": []
  }
 ],
 "metadata": {
  "kernelspec": {
   "display_name": "Python 3",
   "language": "python",
   "name": "python3"
  },
  "language_info": {
   "codemirror_mode": {
    "name": "ipython",
    "version": 3
   },
   "file_extension": ".py",
   "mimetype": "text/x-python",
   "name": "python",
   "nbconvert_exporter": "python",
   "pygments_lexer": "ipython3",
   "version": "3.7.3"
  }
 },
 "nbformat": 4,
 "nbformat_minor": 2
}
