{
 "cells": [
  {
   "cell_type": "markdown",
   "metadata": {},
   "source": [
    "# Introductory classifier"
   ]
  },
  {
   "cell_type": "code",
   "execution_count": null,
   "metadata": {
    "collapsed": true,
    "scrolled": true
   },
   "outputs": [],
   "source": [
    "import sklearn                                        # In addition to the tools we'll\n",
    "from sklearn.datasets import load_breast_cancer       # need here, we are also importing\n",
    "from sklearn.model_selection import train_test_split  # the Wisconsin Breast Cancer\n",
    "from sklearn.naive_bayes import GaussianNB            # dataset into a Bunch called wbc.\n",
    "from sklearn.metrics import accuracy_score            # Bunches are sklearn objects, very\n",
    "wbc = load_breast_cancer()                            # similar to Python dicts."
   ]
  },
  {
   "cell_type": "code",
   "execution_count": null,
   "metadata": {
    "collapsed": true,
    "scrolled": true
   },
   "outputs": [],
   "source": [
    "diagnoses = wbc['target_names']       # Diagnosis: benign or\n",
    "                                      # malignant. \n",
    "    \n",
    "results = wbc['target']               # Benign diagnoses are \n",
    "                                      # labeled with 1 and\n",
    "                                      # malignacies with 0.                                      # with 0.\n",
    "\n",
    "observations = wbc['feature_names']   # Properties of cells imaged\n",
    "                                      # after fine needle aspiration.\n",
    "                                      # These properties include mean,\n",
    "                                      # standard error, and worst error\n",
    "                                      # values for characteristics such\n",
    "                                      # as radius, concavity, etc.\n",
    "                    \n",
    "measurements = wbc['data']            # The actual measurements."
   ]
  },
  {
   "cell_type": "code",
   "execution_count": null,
   "metadata": {
    "collapsed": true,
    "scrolled": true
   },
   "outputs": [],
   "source": [
    "# The train_test_split() method allows us to split the data\n",
    "# into training and testing subsets. \n",
    "# \n",
    "# The parameter train_size determines the fraction of the dataset\n",
    "# that we use to train the classifier. We start with only 5%\n",
    "# which is a very small fraction, and go from there.\n",
    "#\n",
    "# The remaining of the dataset is then used to test the classifier.\n",
    "#\n",
    "# (\\ are used for spreading a Python statement across multiple lines)\n",
    "\n",
    "\n",
    "trainingSet, testingSet, \\\n",
    "trainingDiagnoses, testingDiagnoses = \\\n",
    "\\\n",
    "train_test_split(measurements, \\\n",
    "                  results, \\\n",
    "                  train_size=0.05, \\\n",
    "                  random_state=40)   "
   ]
  },
  {
   "cell_type": "code",
   "execution_count": null,
   "metadata": {
    "collapsed": true,
    "scrolled": true
   },
   "outputs": [],
   "source": [
    "# We'll use a Naive Bayes classifier and because the values for various\n",
    "# cell characteristics are continuous values, we'll use a Gaussian version\n",
    "# of the classifier.\n",
    "\n",
    "classifier = GaussianNB()\n",
    "\n",
    "# Train our classifier\n",
    "trainedModel = classifier.fit(trainingSet, trainingDiagnoses)\n",
    "\n",
    "# Use the trained model to make predictions about the diagnoses \n",
    "# in the test subset. Then compare the model's predictions with\n",
    "# the actual diagnoses, to assess the efficacy of the classifier.\n",
    "\n",
    "modelPredicts = classifier.predict(testingSet)"
   ]
  },
  {
   "cell_type": "code",
   "execution_count": null,
   "metadata": {
    "collapsed": true,
    "scrolled": true
   },
   "outputs": [],
   "source": [
    "# How accurate is the model?\n",
    "print(accuracy_score(testingDiagnoses, modelPredicts))"
   ]
  },
  {
   "cell_type": "code",
   "execution_count": null,
   "metadata": {
    "collapsed": true,
    "scrolled": true
   },
   "outputs": [],
   "source": [
    "# Idea for a possible assignment: parametrize evaluation of the model\n",
    "# ploting accurancy v. train_size for train_size values from 5% to 95%.\n",
    "# Maybe compare it to another classifier?"
   ]
  }
 ],
 "metadata": {
  "kernelspec": {
   "display_name": "Python 3",
   "language": "python",
   "name": "python3"
  },
  "language_info": {
   "codemirror_mode": {
    "name": "ipython",
    "version": 3
   },
   "file_extension": ".py",
   "mimetype": "text/x-python",
   "name": "python",
   "nbconvert_exporter": "python",
   "pygments_lexer": "ipython3",
   "version": "3.7.3"
  }
 },
 "nbformat": 4,
 "nbformat_minor": 2
}
