{
 "cells": [
  {
   "cell_type": "code",
   "execution_count": null,
   "metadata": {},
   "outputs": [],
   "source": [
    "#\n",
    "# Dependences\n",
    "\n",
    "import pandas as pd\n",
    "import numpy as np\n",
    "import matplotlib.pyplot as plt\n",
    "%matplotlib inline"
   ]
  },
  {
   "cell_type": "code",
   "execution_count": null,
   "metadata": {},
   "outputs": [],
   "source": [
    "# Read the data and show a short sample\n",
    "measles = pd.read_csv(\"measles.csv\")\n",
    "measles.head()"
   ]
  },
  {
   "cell_type": "code",
   "execution_count": null,
   "metadata": {},
   "outputs": [],
   "source": [
    "#\n",
    "# transform week value YYYYMM to MM and YYYY\n",
    "# and show a short sample again.\n",
    "# Transformation takes place with an anonymous function\n",
    "# passed into .apply().\n",
    "#\n",
    "# First, we use the function int(str(x)[0:4]) to pull out\n",
    "# the year value from the YYYYWW entity in the dataset,\n",
    "# assigning it to new column [\"year\"] within the dataframe.\n",
    "#\n",
    "# Second, we use the function int(str(x)[4:7]) to pull out\n",
    "# the week value from YYYYWW, assigning it to new column\n",
    "# [\"week_num\"] within the dataframe.\n",
    "#\n",
    "# Finally, we drop the week column from the dataframe as it\n",
    "# is extraneous, using the method .drop()\n",
    "\n",
    "measles[\"year\"] = measles[\"week\"].apply(lambda x: int(str(x)[0:4]))\n",
    "measles[\"week_num\"] = measles[\"week\"].apply(lambda x: int(str(x)[4:7]))\n",
    "measles.drop(\"week\", axis = 1, inplace = True)\n",
    "measles.head(3)"
   ]
  },
  {
   "cell_type": "code",
   "execution_count": null,
   "metadata": {},
   "outputs": [],
   "source": [
    "def aggregate(thisDataframe, byThisColumn):\n",
    "    \n",
    "    groupedByThisColumn = thisDataframe.groupby(by = byThisColumn)\n",
    "    # aggregate sum(cases), avg(cases), avg(incidence)\n",
    "    sumOfCases = pd.DataFrame(groupedByThisColumn[\"cases\"].sum()).reset_index()\n",
    "    avgOfCases = pd.DataFrame(groupedByThisColumn[\"cases\"].mean()).reset_index()\n",
    "    avgIncidenceYear = pd.DataFrame(groupedByThisColumn[\"incidence_per_capita\"].mean()).reset_index()\n",
    "    # rename columns \n",
    "    avgIncidenceYear = avgIncidenceYear.rename(columns = {\"incidence_per_capita\": \"weekly average incidence\"})\n",
    "    sumOfCases = sumOfCases.rename(columns = {\"cases\": \"yearly sum\"})\n",
    "    avgOfCases = avgOfCases.rename(columns = {\"cases\": \"weekly average\"})\n",
    "    # put dataframes together\n",
    "    measlesCases = pd.merge(avgOfCases, sumOfCases)\n",
    "    newDataframe = pd.merge(avgIncidenceYear, measlesCases)\n",
    "    return newDataframe"
   ]
  },
  {
   "cell_type": "code",
   "execution_count": null,
   "metadata": {},
   "outputs": [],
   "source": [
    "measlesByYearByState = aggregate(measles, byThisColumn = [\"year\", \"state_name\"])\n",
    "measlesByYearByState.head(3)"
   ]
  },
  {
   "cell_type": "code",
   "execution_count": null,
   "metadata": {},
   "outputs": [],
   "source": [
    "measlesByYear = aggregate(measles, byThisColumn=[\"year\"])\n",
    "measlesByYear.head(3)"
   ]
  },
  {
   "cell_type": "code",
   "execution_count": null,
   "metadata": {},
   "outputs": [],
   "source": [
    "measlesByYear.plot(kind='scatter',x='year',y='weekly average')\n",
    "plt.show()"
   ]
  },
  {
   "cell_type": "code",
   "execution_count": null,
   "metadata": {},
   "outputs": [],
   "source": []
  },
  {
   "cell_type": "code",
   "execution_count": null,
   "metadata": {},
   "outputs": [],
   "source": []
  }
 ],
 "metadata": {
  "kernelspec": {
   "display_name": "Python 3",
   "language": "python",
   "name": "python3"
  },
  "language_info": {
   "codemirror_mode": {
    "name": "ipython",
    "version": 3
   },
   "file_extension": ".py",
   "mimetype": "text/x-python",
   "name": "python",
   "nbconvert_exporter": "python",
   "pygments_lexer": "ipython3",
   "version": "3.7.3"
  }
 },
 "nbformat": 4,
 "nbformat_minor": 2
}
